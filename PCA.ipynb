{
 "cells": [
  {
   "cell_type": "code",
   "execution_count": 41,
   "metadata": {},
   "outputs": [],
   "source": [
    "import numpy as np\n",
    "np.random.seed(1234)\n",
    "import matplotlib.pyplot as plt"
   ]
  },
  {
   "cell_type": "code",
   "execution_count": 42,
   "metadata": {},
   "outputs": [
    {
     "data": {
      "image/png": "[encoded data removed]",
      "text/plain": [
       "<Figure size 432x288 with 1 Axes>"
      ]
     },
     "metadata": {
      "needs_background": "light"
     },
     "output_type": "display_data"
    }
   ],
   "source": [
    "N = 200\n",
    "t = np.random.rand(N) * np.pi\n",
    "t.sort()\n",
    "\n",
    "moon1 = np.column_stack((np.sin(t)+0.25, np.cos(t))) + 0.05 * np.random.randn(N,2)\n",
    "moon2 = np.column_stack((np.cos(t), np.sin(t))) + 0.05 * np.random.randn(N,2) - 0.5\n",
    "moon3 = np.column_stack((np.cos(t)-1.2, -np.sin(t)-0.2)) + 0.05 * np.random.randn(N,2)\n",
    "moons = np.concatenate((moon1, moon2, moon3), 0)\n",
    "\n",
    "m1 = plt.scatter(moon1[:,0], moon1[:,1], s=30, facecolors='r', edgecolors='none')\n",
    "m2 = plt.scatter(moon2[:,0], moon2[:,1], s=30, facecolors='b', edgecolors='none')\n",
    "m3 = plt.scatter(moon3[:,0], moon3[:,1], s=30, facecolors='g', edgecolors='none')\n",
    "plt.legend((m1,m2,m3), ('moon 1', 'moon 2', 'moon 3'))\n",
    "plt.show()"
   ]
  },
  {
   "cell_type": "code",
   "execution_count": 43,
   "metadata": {},
   "outputs": [
    {
     "data": {
      "text/plain": [
       "numpy.ndarray"
      ]
     },
     "execution_count": 43,
     "metadata": {},
     "output_type": "execute_result"
    }
   ],
   "source": [
    "type(moons[1])"
   ]
  },
  {
   "cell_type": "code",
   "execution_count": 5,
   "metadata": {},
   "outputs": [
    {
     "data": {
      "text/plain": [
       "(2, 2)"
      ]
     },
     "execution_count": 5,
     "metadata": {},
     "output_type": "execute_result"
    }
   ],
   "source": [
    "u, s, vt = np.linalg.svd(moons)\n",
    "vt.shape"
   ]
  },
  {
   "cell_type": "code",
   "execution_count": 7,
   "metadata": {},
   "outputs": [
    {
     "data": {
      "text/plain": [
       "array([[-0.9462466 ,  0.32344609],\n",
       "       [-0.32344609, -0.9462466 ]])"
      ]
     },
     "execution_count": 7,
     "metadata": {},
     "output_type": "execute_result"
    }
   ],
   "source": [
    "v = vt.transpose()\n",
    "v"
   ]
  },
  {
   "cell_type": "code",
   "execution_count": 8,
   "metadata": {},
   "outputs": [
    {
     "data": {
      "text/plain": [
       "array([[-0.61116613, -0.85755153],\n",
       "       [-0.6410853 , -0.88964608],\n",
       "       [-0.57531518, -0.83060289],\n",
       "       ...,\n",
       "       [ 2.17303421, -0.51006912],\n",
       "       [ 2.17597815, -0.48008347],\n",
       "       [ 2.15645654, -0.47343566]])"
      ]
     },
     "execution_count": 8,
     "metadata": {},
     "output_type": "execute_result"
    }
   ],
   "source": [
    "np.matmul(moons, v)"
   ]
  },
  {
   "cell_type": "code",
   "execution_count": 2,
   "metadata": {},
   "outputs": [],
   "source": [
    "from docx2tokens import docx_to_tokens\n",
    "import os\n",
    "from mxnet import gluon\n",
    "from mxnet import nd\n",
    "import gluonnlp as nlp\n",
    "import re\n",
    "import numpy as np\n",
    "import matplotlib.pyplot as plt"
   ]
  },
  {
   "cell_type": "code",
   "execution_count": 9,
   "metadata": {},
   "outputs": [
    {
     "name": "stdout",
     "output_type": "stream",
     "text": [
      "reading .docx at C:\\Users\\Yandong Li\\Desktop\\Spring 2020\\CS 6241\\hw2\\D2Jr_016003.docx\n",
      "['gray', 'today', 'name', 'tam', 'boggs', 'attorney', 'town', 'also', 'work', 'quimby', 'red', 'brough', 'represent', 'evins', 'okay', 'answer', 'judge', 'question', 'opinion', 'feel', 'death', 'penalty', 'answer', 'gowdy', 'sound', 'like', 'take', 'judge', 'instruction', 'six', 'come', 'group', 'earlier', 'remember', 'judge', 'say', 'presumption', 'innocence', 'person', 'presume', 'innocent', 'prove', 'guilty', 'instruct', 'tell', 'u', 'sit', 'right', 'person', 'innocent', 'hear', 'fact', 'explain', 'gowdy', 'mean', 'believe', 'person', 'innocent', 'presume', 'innocent', 'remember', 'judge', 'define', 'tell', 'presumption', 'innocence', 'take', 'person', 'presume', 'innocent', 'prove', 'guilty', 'believe', 'way', 'prove', 'somebody', 'guilty', 'bring', 'fact', 'put', 'testimony', 'jury', 'make', 'decision', 'feel', 'case', 'proceed', 'evidence', 'even', 'though', 'death', 'penalty', 'first', 'phase', 'person', 'convict', 'murder', 'go', 'second', 'phase', 'hear', 'fact', 'even', 'though', 'may', 'oppose', 'crime', 'heinous', 'like', 'say', 'could', 'impose', 'death', 'penalty', 'correct', 'say', 'pending', 'charge', 'point', 'animosity', 'anybody', 'anybody', 'reward', 'anybody', 'punish', 'correct', 'could', 'judge', 'ask', 'could', 'fair', 'juror', 'feel', 'like', 'could', 'fair', 'keep', 'open', 'mind', 'deal', 'case', 'court', 'influence', 'anything', 'outside', 'court', 'correct', 'gray', 'appreciate', 'answer']\n"
     ]
    }
   ],
   "source": [
    "tokens = docx_to_tokens(os.getcwd() + \"\\D2Jr_016003.docx\")\n",
    "print(tokens)"
   ]
  },
  {
   "cell_type": "code",
   "execution_count": 3,
   "metadata": {},
   "outputs": [],
   "source": [
    "# create word embedding\n",
    "# need to download, if it's the first time running this code\n",
    "glove_6b50d = nlp.embedding.create('glove', source='glove.6B.50d')"
   ]
  },
  {
   "cell_type": "code",
   "execution_count": 4,
   "metadata": {},
   "outputs": [
    {
     "name": "stdout",
     "output_type": "stream",
     "text": [
      "reading .docx at C:\\Users\\Yandong Li\\Desktop\\Spring 2020\\Club\\court data\\LIWC Files for Evins Case\\Black Female Jurors\\D2Jr_016001.docx\n",
      "reading .docx at C:\\Users\\Yandong Li\\Desktop\\Spring 2020\\Club\\court data\\LIWC Files for Evins Case\\Black Female Jurors\\D2Jr_016019.docx\n",
      "reading .docx at C:\\Users\\Yandong Li\\Desktop\\Spring 2020\\Club\\court data\\LIWC Files for Evins Case\\Black Female Jurors\\D2Jr_016020.docx\n",
      "reading .docx at C:\\Users\\Yandong Li\\Desktop\\Spring 2020\\Club\\court data\\LIWC Files for Evins Case\\Black Female Jurors\\D2Jr_016026.docx\n",
      "reading .docx at C:\\Users\\Yandong Li\\Desktop\\Spring 2020\\Club\\court data\\LIWC Files for Evins Case\\Black Female Jurors\\D2Jr_016027.docx\n",
      "reading .docx at C:\\Users\\Yandong Li\\Desktop\\Spring 2020\\Club\\court data\\LIWC Files for Evins Case\\Black Female Jurors\\D2Jr_016048.docx\n",
      "reading .docx at C:\\Users\\Yandong Li\\Desktop\\Spring 2020\\Club\\court data\\LIWC Files for Evins Case\\Black Female Jurors\\D2Jr_016055.docx\n",
      "reading .docx at C:\\Users\\Yandong Li\\Desktop\\Spring 2020\\Club\\court data\\LIWC Files for Evins Case\\Black Female Jurors\\D2Jr_016056.docx\n",
      "reading .docx at C:\\Users\\Yandong Li\\Desktop\\Spring 2020\\Club\\court data\\LIWC Files for Evins Case\\Black Female Jurors\\Jd2Jr_016001.docx\n",
      "reading .docx at C:\\Users\\Yandong Li\\Desktop\\Spring 2020\\Club\\court data\\LIWC Files for Evins Case\\Black Female Jurors\\Jd2Jr_016019.docx\n",
      "reading .docx at C:\\Users\\Yandong Li\\Desktop\\Spring 2020\\Club\\court data\\LIWC Files for Evins Case\\Black Female Jurors\\Jd2Jr_016020.docx\n",
      "reading .docx at C:\\Users\\Yandong Li\\Desktop\\Spring 2020\\Club\\court data\\LIWC Files for Evins Case\\Black Female Jurors\\Jd2Jr_016026.docx\n",
      "reading .docx at C:\\Users\\Yandong Li\\Desktop\\Spring 2020\\Club\\court data\\LIWC Files for Evins Case\\Black Female Jurors\\Jd2Jr_016027.docx\n",
      "reading .docx at C:\\Users\\Yandong Li\\Desktop\\Spring 2020\\Club\\court data\\LIWC Files for Evins Case\\Black Female Jurors\\Jd2Jr_016048.docx\n",
      "reading .docx at C:\\Users\\Yandong Li\\Desktop\\Spring 2020\\Club\\court data\\LIWC Files for Evins Case\\Black Female Jurors\\Jd2Jr_016055.docx\n",
      "reading .docx at C:\\Users\\Yandong Li\\Desktop\\Spring 2020\\Club\\court data\\LIWC Files for Evins Case\\Black Female Jurors\\Jd2Jr_016056.docx\n",
      "reading .docx at C:\\Users\\Yandong Li\\Desktop\\Spring 2020\\Club\\court data\\LIWC Files for Evins Case\\Black Female Jurors\\Jr2D_016001.docx\n",
      "reading .docx at C:\\Users\\Yandong Li\\Desktop\\Spring 2020\\Club\\court data\\LIWC Files for Evins Case\\Black Female Jurors\\Jr2D_016019.docx\n",
      "reading .docx at C:\\Users\\Yandong Li\\Desktop\\Spring 2020\\Club\\court data\\LIWC Files for Evins Case\\Black Female Jurors\\Jr2D_016020.docx\n",
      "reading .docx at C:\\Users\\Yandong Li\\Desktop\\Spring 2020\\Club\\court data\\LIWC Files for Evins Case\\Black Female Jurors\\Jr2D_016026.docx\n",
      "reading .docx at C:\\Users\\Yandong Li\\Desktop\\Spring 2020\\Club\\court data\\LIWC Files for Evins Case\\Black Female Jurors\\Jr2D_016027.docx\n",
      "reading .docx at C:\\Users\\Yandong Li\\Desktop\\Spring 2020\\Club\\court data\\LIWC Files for Evins Case\\Black Female Jurors\\Jr2D_016048.docx\n",
      "reading .docx at C:\\Users\\Yandong Li\\Desktop\\Spring 2020\\Club\\court data\\LIWC Files for Evins Case\\Black Female Jurors\\Jr2D_016055.docx\n",
      "reading .docx at C:\\Users\\Yandong Li\\Desktop\\Spring 2020\\Club\\court data\\LIWC Files for Evins Case\\Black Female Jurors\\Jr2Jd_016001.docx\n",
      "reading .docx at C:\\Users\\Yandong Li\\Desktop\\Spring 2020\\Club\\court data\\LIWC Files for Evins Case\\Black Female Jurors\\Jr2Jd_016019.docx\n",
      "reading .docx at C:\\Users\\Yandong Li\\Desktop\\Spring 2020\\Club\\court data\\LIWC Files for Evins Case\\Black Female Jurors\\Jr2Jd_016020.docx\n",
      "reading .docx at C:\\Users\\Yandong Li\\Desktop\\Spring 2020\\Club\\court data\\LIWC Files for Evins Case\\Black Female Jurors\\Jr2Jd_016026.docx\n",
      "reading .docx at C:\\Users\\Yandong Li\\Desktop\\Spring 2020\\Club\\court data\\LIWC Files for Evins Case\\Black Female Jurors\\Jr2Jd_016027.docx\n",
      "reading .docx at C:\\Users\\Yandong Li\\Desktop\\Spring 2020\\Club\\court data\\LIWC Files for Evins Case\\Black Female Jurors\\Jr2Jd_016048.docx\n",
      "reading .docx at C:\\Users\\Yandong Li\\Desktop\\Spring 2020\\Club\\court data\\LIWC Files for Evins Case\\Black Female Jurors\\Jr2Jd_016055.docx\n",
      "reading .docx at C:\\Users\\Yandong Li\\Desktop\\Spring 2020\\Club\\court data\\LIWC Files for Evins Case\\Black Female Jurors\\Jr2Jd_016056.docx\n",
      "reading .docx at C:\\Users\\Yandong Li\\Desktop\\Spring 2020\\Club\\court data\\LIWC Files for Evins Case\\Black Female Jurors\\Jr2P_016001.docx\n",
      "reading .docx at C:\\Users\\Yandong Li\\Desktop\\Spring 2020\\Club\\court data\\LIWC Files for Evins Case\\Black Female Jurors\\Jr2P_016019.docx\n",
      "reading .docx at C:\\Users\\Yandong Li\\Desktop\\Spring 2020\\Club\\court data\\LIWC Files for Evins Case\\Black Female Jurors\\Jr2P_016020.docx\n",
      "reading .docx at C:\\Users\\Yandong Li\\Desktop\\Spring 2020\\Club\\court data\\LIWC Files for Evins Case\\Black Female Jurors\\Jr2P_016026.docx\n",
      "reading .docx at C:\\Users\\Yandong Li\\Desktop\\Spring 2020\\Club\\court data\\LIWC Files for Evins Case\\Black Female Jurors\\Jr2P_016027.docx\n",
      "reading .docx at C:\\Users\\Yandong Li\\Desktop\\Spring 2020\\Club\\court data\\LIWC Files for Evins Case\\Black Female Jurors\\Jr2P_016048.docx\n",
      "reading .docx at C:\\Users\\Yandong Li\\Desktop\\Spring 2020\\Club\\court data\\LIWC Files for Evins Case\\Black Female Jurors\\Jr2P_016055.docx\n",
      "reading .docx at C:\\Users\\Yandong Li\\Desktop\\Spring 2020\\Club\\court data\\LIWC Files for Evins Case\\Black Female Jurors\\Jr2P_016056.docx\n",
      "reading .docx at C:\\Users\\Yandong Li\\Desktop\\Spring 2020\\Club\\court data\\LIWC Files for Evins Case\\Black Female Jurors\\P2Jr_016001.docx\n",
      "reading .docx at C:\\Users\\Yandong Li\\Desktop\\Spring 2020\\Club\\court data\\LIWC Files for Evins Case\\Black Female Jurors\\P2Jr_016019.docx\n",
      "reading .docx at C:\\Users\\Yandong Li\\Desktop\\Spring 2020\\Club\\court data\\LIWC Files for Evins Case\\Black Female Jurors\\P2Jr_016020.docx\n",
      "reading .docx at C:\\Users\\Yandong Li\\Desktop\\Spring 2020\\Club\\court data\\LIWC Files for Evins Case\\Black Female Jurors\\P2Jr_016026.docx\n",
      "reading .docx at C:\\Users\\Yandong Li\\Desktop\\Spring 2020\\Club\\court data\\LIWC Files for Evins Case\\Black Female Jurors\\P2Jr_016027.docx\n",
      "reading .docx at C:\\Users\\Yandong Li\\Desktop\\Spring 2020\\Club\\court data\\LIWC Files for Evins Case\\Black Female Jurors\\P2Jr_016048.docx\n",
      "reading .docx at C:\\Users\\Yandong Li\\Desktop\\Spring 2020\\Club\\court data\\LIWC Files for Evins Case\\Black Female Jurors\\P2Jr_016055.docx\n",
      "reading .docx at C:\\Users\\Yandong Li\\Desktop\\Spring 2020\\Club\\court data\\LIWC Files for Evins Case\\Black Female Jurors\\P2Jr_016056.docx\n"
     ]
    }
   ],
   "source": [
    "directory = \"C:\\\\Users\\\\Yandong Li\\\\Desktop\\\\Spring 2020\\\\Club\\\\court data\\\\LIWC Files for Evins Case\\\\Black Female Jurors\"\n",
    "BFJ_tokens = [];\n",
    "\n",
    "for filename in os.listdir(directory):\n",
    "    # check if it's a .docx file and not empty\n",
    "    if filename.endswith(\".docx\") and os.stat(os.path.join(directory, filename)).st_size != 0:\n",
    "        tokens = docx_to_tokens(os.path.join(directory, filename))\n",
    "        BFJ_tokens.extend(tokens)"
   ]
  },
  {
   "cell_type": "code",
   "execution_count": 6,
   "metadata": {},
   "outputs": [],
   "source": [
    "vocab = nlp.Vocab(nlp.data.Counter(glove_6b50d.idx_to_token))\n",
    "vocab.set_embedding(glove_6b50d)\n",
    "A = vocab.embedding[BFJ_tokens]\n",
    "# type of A is mxnet array"
   ]
  },
  {
   "cell_type": "code",
   "execution_count": 7,
   "metadata": {},
   "outputs": [],
   "source": [
    "# convert mxnet array to np.array\n",
    "A2 = np.zeros(A.shape)\n",
    "for i in np.arange(0,9192):\n",
    "    A2[i] = A[i].asnumpy()"
   ]
  },
  {
   "cell_type": "code",
   "execution_count": 8,
   "metadata": {},
   "outputs": [
    {
     "data": {
      "text/plain": [
       "array([-0.4780303 , -0.03105642, -3.02292131, ...,  1.00999121,\n",
       "       -0.30894819, -3.09017997])"
      ]
     },
     "execution_count": 8,
     "metadata": {},
     "output_type": "execute_result"
    }
   ],
   "source": [
    "u, s, vt = np.linalg.svd(A2)\n",
    "vt.shape\n",
    "v = vt.transpose()\n",
    "PCs = np.matmul(A2, v)\n",
    "PCs[:,1]"
   ]
  },
  {
   "cell_type": "code",
   "execution_count": 9,
   "metadata": {},
   "outputs": [
    {
     "data": {
      "image/png": "[encoded data removed]",
      "text/plain": [
       "<Figure size 432x288 with 1 Axes>"
      ]
     },
     "metadata": {
      "needs_background": "light"
     },
     "output_type": "display_data"
    }
   ],
   "source": [
    "N = 50\n",
    "fig, ax = plt.subplots()\n",
    "ax.scatter(PCs[0:50,0], PCs[0:50,1])\n",
    "\n",
    "for i, txt in enumerate(BFJ_tokens[0:50]):\n",
    "    ax.annotate(txt, (PCs[i,0], PCs[i,1]))\n",
    "\n",
    "plt.savefig('BFJwords.pdf')  "
   ]
  },
  {
   "cell_type": "code",
   "execution_count": 60,
   "metadata": {},
   "outputs": [
    {
     "data": {
      "text/plain": [
       "(9192, 50)"
      ]
     },
     "execution_count": 60,
     "metadata": {},
     "output_type": "execute_result"
    }
   ],
   "source": [
    "N = 50\n",
    "fig, ax = plt.subplots()\n",
    "ax.scatter(z, y)\n",
    "\n",
    "for i, txt in enumerate(n):\n",
    "    ax.annotate(txt, (z[i], y[i]))\n",
    "\n",
    "\n",
    "PCs.shape"
   ]
  },
  {
   "cell_type": "code",
   "execution_count": 34,
   "metadata": {},
   "outputs": [
    {
     "name": "stdout",
     "output_type": "stream",
     "text": [
      "reading .docx at C:\\Users\\Yandong Li\\Desktop\\Spring 2020\\Club\\court data\\LIWC Files for Evins Case\\Black Female Jurors\\D2Jr_016001.docx\n",
      "reading .docx at C:\\Users\\Yandong Li\\Desktop\\Spring 2020\\Club\\court data\\LIWC Files for Evins Case\\Black Female Jurors\\D2Jr_016019.docx\n",
      "reading .docx at C:\\Users\\Yandong Li\\Desktop\\Spring 2020\\Club\\court data\\LIWC Files for Evins Case\\Black Female Jurors\\D2Jr_016020.docx\n",
      "reading .docx at C:\\Users\\Yandong Li\\Desktop\\Spring 2020\\Club\\court data\\LIWC Files for Evins Case\\Black Female Jurors\\D2Jr_016026.docx\n",
      "reading .docx at C:\\Users\\Yandong Li\\Desktop\\Spring 2020\\Club\\court data\\LIWC Files for Evins Case\\Black Female Jurors\\D2Jr_016027.docx\n",
      "reading .docx at C:\\Users\\Yandong Li\\Desktop\\Spring 2020\\Club\\court data\\LIWC Files for Evins Case\\Black Female Jurors\\D2Jr_016048.docx\n",
      "reading .docx at C:\\Users\\Yandong Li\\Desktop\\Spring 2020\\Club\\court data\\LIWC Files for Evins Case\\Black Female Jurors\\D2Jr_016055.docx\n",
      "reading .docx at C:\\Users\\Yandong Li\\Desktop\\Spring 2020\\Club\\court data\\LIWC Files for Evins Case\\Black Female Jurors\\D2Jr_016056.docx\n",
      "reading .docx at C:\\Users\\Yandong Li\\Desktop\\Spring 2020\\Club\\court data\\LIWC Files for Evins Case\\Black Female Jurors\\Jd2Jr_016001.docx\n",
      "reading .docx at C:\\Users\\Yandong Li\\Desktop\\Spring 2020\\Club\\court data\\LIWC Files for Evins Case\\Black Female Jurors\\Jd2Jr_016019.docx\n",
      "reading .docx at C:\\Users\\Yandong Li\\Desktop\\Spring 2020\\Club\\court data\\LIWC Files for Evins Case\\Black Female Jurors\\Jd2Jr_016020.docx\n",
      "reading .docx at C:\\Users\\Yandong Li\\Desktop\\Spring 2020\\Club\\court data\\LIWC Files for Evins Case\\Black Female Jurors\\Jd2Jr_016026.docx\n",
      "reading .docx at C:\\Users\\Yandong Li\\Desktop\\Spring 2020\\Club\\court data\\LIWC Files for Evins Case\\Black Female Jurors\\Jd2Jr_016027.docx\n",
      "reading .docx at C:\\Users\\Yandong Li\\Desktop\\Spring 2020\\Club\\court data\\LIWC Files for Evins Case\\Black Female Jurors\\Jd2Jr_016048.docx\n",
      "reading .docx at C:\\Users\\Yandong Li\\Desktop\\Spring 2020\\Club\\court data\\LIWC Files for Evins Case\\Black Female Jurors\\Jd2Jr_016055.docx\n",
      "reading .docx at C:\\Users\\Yandong Li\\Desktop\\Spring 2020\\Club\\court data\\LIWC Files for Evins Case\\Black Female Jurors\\Jd2Jr_016056.docx\n",
      "reading .docx at C:\\Users\\Yandong Li\\Desktop\\Spring 2020\\Club\\court data\\LIWC Files for Evins Case\\Black Female Jurors\\Jr2D_016001.docx\n",
      "reading .docx at C:\\Users\\Yandong Li\\Desktop\\Spring 2020\\Club\\court data\\LIWC Files for Evins Case\\Black Female Jurors\\Jr2D_016019.docx\n",
      "reading .docx at C:\\Users\\Yandong Li\\Desktop\\Spring 2020\\Club\\court data\\LIWC Files for Evins Case\\Black Female Jurors\\Jr2D_016020.docx\n",
      "reading .docx at C:\\Users\\Yandong Li\\Desktop\\Spring 2020\\Club\\court data\\LIWC Files for Evins Case\\Black Female Jurors\\Jr2D_016026.docx\n",
      "reading .docx at C:\\Users\\Yandong Li\\Desktop\\Spring 2020\\Club\\court data\\LIWC Files for Evins Case\\Black Female Jurors\\Jr2D_016027.docx\n",
      "reading .docx at C:\\Users\\Yandong Li\\Desktop\\Spring 2020\\Club\\court data\\LIWC Files for Evins Case\\Black Female Jurors\\Jr2D_016048.docx\n",
      "reading .docx at C:\\Users\\Yandong Li\\Desktop\\Spring 2020\\Club\\court data\\LIWC Files for Evins Case\\Black Female Jurors\\Jr2D_016055.docx\n",
      "reading .docx at C:\\Users\\Yandong Li\\Desktop\\Spring 2020\\Club\\court data\\LIWC Files for Evins Case\\Black Female Jurors\\Jr2Jd_016001.docx\n",
      "reading .docx at C:\\Users\\Yandong Li\\Desktop\\Spring 2020\\Club\\court data\\LIWC Files for Evins Case\\Black Female Jurors\\Jr2Jd_016019.docx\n",
      "reading .docx at C:\\Users\\Yandong Li\\Desktop\\Spring 2020\\Club\\court data\\LIWC Files for Evins Case\\Black Female Jurors\\Jr2Jd_016020.docx\n",
      "reading .docx at C:\\Users\\Yandong Li\\Desktop\\Spring 2020\\Club\\court data\\LIWC Files for Evins Case\\Black Female Jurors\\Jr2Jd_016026.docx\n",
      "reading .docx at C:\\Users\\Yandong Li\\Desktop\\Spring 2020\\Club\\court data\\LIWC Files for Evins Case\\Black Female Jurors\\Jr2Jd_016027.docx\n",
      "reading .docx at C:\\Users\\Yandong Li\\Desktop\\Spring 2020\\Club\\court data\\LIWC Files for Evins Case\\Black Female Jurors\\Jr2Jd_016048.docx\n",
      "reading .docx at C:\\Users\\Yandong Li\\Desktop\\Spring 2020\\Club\\court data\\LIWC Files for Evins Case\\Black Female Jurors\\Jr2Jd_016055.docx\n",
      "reading .docx at C:\\Users\\Yandong Li\\Desktop\\Spring 2020\\Club\\court data\\LIWC Files for Evins Case\\Black Female Jurors\\Jr2Jd_016056.docx\n",
      "reading .docx at C:\\Users\\Yandong Li\\Desktop\\Spring 2020\\Club\\court data\\LIWC Files for Evins Case\\Black Female Jurors\\Jr2P_016001.docx\n",
      "reading .docx at C:\\Users\\Yandong Li\\Desktop\\Spring 2020\\Club\\court data\\LIWC Files for Evins Case\\Black Female Jurors\\Jr2P_016019.docx\n",
      "reading .docx at C:\\Users\\Yandong Li\\Desktop\\Spring 2020\\Club\\court data\\LIWC Files for Evins Case\\Black Female Jurors\\Jr2P_016020.docx\n",
      "reading .docx at C:\\Users\\Yandong Li\\Desktop\\Spring 2020\\Club\\court data\\LIWC Files for Evins Case\\Black Female Jurors\\Jr2P_016026.docx\n",
      "reading .docx at C:\\Users\\Yandong Li\\Desktop\\Spring 2020\\Club\\court data\\LIWC Files for Evins Case\\Black Female Jurors\\Jr2P_016027.docx\n",
      "reading .docx at C:\\Users\\Yandong Li\\Desktop\\Spring 2020\\Club\\court data\\LIWC Files for Evins Case\\Black Female Jurors\\Jr2P_016048.docx\n",
      "reading .docx at C:\\Users\\Yandong Li\\Desktop\\Spring 2020\\Club\\court data\\LIWC Files for Evins Case\\Black Female Jurors\\Jr2P_016055.docx\n",
      "reading .docx at C:\\Users\\Yandong Li\\Desktop\\Spring 2020\\Club\\court data\\LIWC Files for Evins Case\\Black Female Jurors\\Jr2P_016056.docx\n",
      "reading .docx at C:\\Users\\Yandong Li\\Desktop\\Spring 2020\\Club\\court data\\LIWC Files for Evins Case\\Black Female Jurors\\P2Jr_016001.docx\n",
      "reading .docx at C:\\Users\\Yandong Li\\Desktop\\Spring 2020\\Club\\court data\\LIWC Files for Evins Case\\Black Female Jurors\\P2Jr_016019.docx\n",
      "reading .docx at C:\\Users\\Yandong Li\\Desktop\\Spring 2020\\Club\\court data\\LIWC Files for Evins Case\\Black Female Jurors\\P2Jr_016020.docx\n",
      "reading .docx at C:\\Users\\Yandong Li\\Desktop\\Spring 2020\\Club\\court data\\LIWC Files for Evins Case\\Black Female Jurors\\P2Jr_016026.docx\n",
      "reading .docx at C:\\Users\\Yandong Li\\Desktop\\Spring 2020\\Club\\court data\\LIWC Files for Evins Case\\Black Female Jurors\\P2Jr_016027.docx\n",
      "reading .docx at C:\\Users\\Yandong Li\\Desktop\\Spring 2020\\Club\\court data\\LIWC Files for Evins Case\\Black Female Jurors\\P2Jr_016048.docx\n",
      "reading .docx at C:\\Users\\Yandong Li\\Desktop\\Spring 2020\\Club\\court data\\LIWC Files for Evins Case\\Black Female Jurors\\P2Jr_016055.docx\n",
      "reading .docx at C:\\Users\\Yandong Li\\Desktop\\Spring 2020\\Club\\court data\\LIWC Files for Evins Case\\Black Female Jurors\\P2Jr_016056.docx\n"
     ]
    }
   ],
   "source": [
    "directory = \"C:\\\\Users\\\\Yandong Li\\\\Desktop\\\\Spring 2020\\\\Club\\\\court data\\\\LIWC Files for Evins Case\\\\Black Female Jurors\"\n",
    "BFJ_tokens = [];\n",
    "\n",
    "for filename in os.listdir(directory):\n",
    "    # check if it's a .docx file and not empty\n",
    "    if filename.endswith(\".docx\") and os.stat(os.path.join(directory, filename)).st_size != 0:\n",
    "        tokens = docx_to_tokens(os.path.join(directory, filename))\n",
    "        BFJ_tokens.extend(tokens)"
   ]
  },
  {
   "cell_type": "code",
   "execution_count": null,
   "metadata": {},
   "outputs": [],
   "source": []
  }
 ],
 "metadata": {
  "kernelspec": {
   "display_name": "Python 3",
   "language": "python",
   "name": "python3"
  },
  "language_info": {
   "codemirror_mode": {
    "name": "ipython",
    "version": 3
   },
   "file_extension": ".py",
   "mimetype": "text/x-python",
   "name": "python",
   "nbconvert_exporter": "python",
   "pygments_lexer": "ipython3",
   "version": "3.7.6"
  }
 },
 "nbformat": 4,
 "nbformat_minor": 4
}
